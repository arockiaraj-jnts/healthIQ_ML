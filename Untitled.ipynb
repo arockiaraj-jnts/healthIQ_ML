{
 "cells": [
  {
   "cell_type": "code",
   "execution_count": 1,
   "id": "dba72257-1285-4866-980f-2f94e718daa7",
   "metadata": {},
   "outputs": [],
   "source": [
    "import pandas as pd\n",
    "\n",
    "test_patterns = [\n",
    "    (\"Quantity\", r'Quantity\\s*[:>]*\\s*([0-9a-zA-Z.]+)'),\n",
    "    (\"Colour\", r'Colour\\s*[:‘]?\\s*([A-Z ]+)'),\n",
    "    (\"Appearance\", r'Appearance\\s*[:=]?\\s*([A-Z ]+)'),\n",
    "    (\"Deposit\", r'Deposit\\s*[:>]*\\s*([A-Z ]+)'),\n",
    "    (\"pH\", r'pH\\s*[:=]*\\s*[=:]*\\s*([0-9.]+)'),\n",
    "    (\"Specific Gravity\", r'Specific\\s+Gravity\\s*[=:.\\s]*([0-9.]+)'),\n",
    "    (\"Albumin\", r'Albumin\\s*[:>]*\\s*(\\w+)'),\n",
    "    (\"Sugar\", r'Sugar\\s*[:>]*\\s*(\\w+)'),\n",
    "    (\"Ketone Bodies\", r'Ketone Bodies\\s*[:>]*\\s*(\\w+)'),\n",
    "    (\"Nitrite\", r'Nitrite\\s*[:>]*\\s*(\\w+)'),\n",
    "    (\"Blood\", r'Blood\\s*[:>]*\\s*(\\w+)'),\n",
    "    (\"Bile Pigments\", r'Bile Pigments\\s*[:>]*\\s*(\\w+)'),\n",
    "    (\"Bile Salts\", r'Bile Salts\\s*[:>]*\\s*(\\w+)'),\n",
    "    (\"Urobilinogen\", r'Urobilinogen\\s*[:>]*\\s*(\\w+)'),\n",
    "    (\"Epithelial Cells\", r'Epithelial Cells\\s*[:=]*\\s*([A-Za-z0-9\\-\\/]+)[\\s]*([a-zA-Z0-9\\-\\/ ]+)?'),\n",
    "    (\"Pus Cells\", r'Pus Cells.*?:\\s*([A-Za-z0-9\\-\\/]+)[\\s]*([0-9\\- ]+ cells/hpf)?'),\n",
    "    (\"Red Blood Cells\", r'(?:Red\\s*)?Blood Cells\\s*[:=]*\\s*([A-Za-z]+)[\\s]*([0-9\\- ]+ cells/hpf)?'),\n",
    "    (\"Casts\", r'Casts\\s*[:=]*\\s*([A-Z]+)'),\n",
    "    (\"Crystals\", r'Crystals\\s*[:=>]*\\s*([A-Z]+)'),\n",
    "    (\"Amorphous Materials\", r'Amorphous Materials\\s*[:=]*\\s*([A-Z]+)'),\n",
    "    (\"Bacteria\", r'Bacteria\\s*[:=]*\\s*([A-Z]+)'),\n",
    "    (\"Yeast Cells\", r'Yeast Cells\\s*[:=]*\\s*([A-Z]+)'),\n",
    "    (\"Mucus\", r'Mucus\\s*[:=]*\\s*([A-Za-z]+)')\n",
    "]\n",
    "\n",
    "test_keys = [pattern[0] for pattern in test_patterns]\n",
    "df = pd.DataFrame(test_keys, columns=[\"Test Parameter\"])\n",
    "df.to_excel(\"urine_routine_fields_column.xlsx\", index=False)\n"
   ]
  },
  {
   "cell_type": "code",
   "execution_count": null,
   "id": "d688479d-882d-4d09-9e01-488606cd619f",
   "metadata": {},
   "outputs": [],
   "source": []
  }
 ],
 "metadata": {
  "kernelspec": {
   "display_name": "Python 3 (ipykernel)",
   "language": "python",
   "name": "python3"
  },
  "language_info": {
   "codemirror_mode": {
    "name": "ipython",
    "version": 3
   },
   "file_extension": ".py",
   "mimetype": "text/x-python",
   "name": "python",
   "nbconvert_exporter": "python",
   "pygments_lexer": "ipython3",
   "version": "3.8.10"
  }
 },
 "nbformat": 4,
 "nbformat_minor": 5
}
